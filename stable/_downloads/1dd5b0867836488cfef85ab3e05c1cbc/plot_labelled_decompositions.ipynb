{
  "cells": [
    {
      "cell_type": "code",
      "execution_count": null,
      "metadata": {
        "collapsed": false
      },
      "outputs": [],
      "source": [
        "%matplotlib inline"
      ]
    },
    {
      "cell_type": "markdown",
      "metadata": {},
      "source": [
        "\n# Labelled decompositions\n\nTLViz uses labelled decompositions, implemented by storing the factor matrices as Pandas DataFrames.\nThis makes it easy to make rich visualisations with the different decompositions. However, sometimes, we\njust want to plot the result directly from TensorLy. Luckily, this is also possible, even when we are using\nnon-numpy backends.\n"
      ]
    },
    {
      "cell_type": "markdown",
      "metadata": {},
      "source": [
        "## Imports and setup\n\nWe will set the backend to pytorch to demonstrate that TLViz also works with non-numpy backends.\nNote that support for non-numpy backends are experiental, so if you encounter any bugs while using\nnon-numpy backends, please let us know by using submitting a new\n[issue](https://github.com/MarieRoald/tlviz/issues/new/choose).\n\n"
      ]
    },
    {
      "cell_type": "code",
      "execution_count": null,
      "metadata": {
        "collapsed": false
      },
      "outputs": [],
      "source": [
        "import tlviz\nimport matplotlib.pyplot as plt\nimport tensorly as tl\nfrom tensorly.decomposition import parafac\n\ntl.set_backend(\"pytorch\")"
      ]
    },
    {
      "cell_type": "markdown",
      "metadata": {},
      "source": [
        "## Loading the data\nHere we load the [Aminoacids dataset](http://models.life.ku.dk/Amino_Acid_fluo) from :cite:p:`bro1997parafac`.\n\n"
      ]
    },
    {
      "cell_type": "code",
      "execution_count": null,
      "metadata": {
        "collapsed": false
      },
      "outputs": [],
      "source": [
        "aminoacids = tlviz.data.load_aminoacids()"
      ]
    },
    {
      "cell_type": "markdown",
      "metadata": {},
      "source": [
        "## Fitting a PARAFAC model\n\nFirst, we fit a PARAFAC model. Normally, you should fit models using several random initialisations,\nbut since our goal here is not data analysis, but demonstrating how TLViz visualises\ndecompositions with and without labels, we fit only one model.\n\n"
      ]
    },
    {
      "cell_type": "code",
      "execution_count": null,
      "metadata": {
        "collapsed": false
      },
      "outputs": [],
      "source": [
        "X = tl.tensor(aminoacids.data)\ncp_tensor = parafac(X, 3, init=\"random\", random_state=0)"
      ]
    },
    {
      "cell_type": "markdown",
      "metadata": {},
      "source": [
        "## Plotting the components\n\nNext, we plot the components without postprocessing the decomposition.\n\n"
      ]
    },
    {
      "cell_type": "code",
      "execution_count": null,
      "metadata": {
        "collapsed": false
      },
      "outputs": [],
      "source": [
        "fig, ax = tlviz.visualisation.components_plot(cp_tensor)\nplt.show()"
      ]
    },
    {
      "cell_type": "markdown",
      "metadata": {},
      "source": [
        "We see that the component plots have used the component vector indices for the values along the\nx-axis and that the x-labels get the default values, \"Mode 0\", \"Mode 1\", and \"Mode 2\".\n\n"
      ]
    },
    {
      "cell_type": "markdown",
      "metadata": {},
      "source": [
        "## Plotting the components\n\nAnd finally, we plot the postprocessed decomposition instead.\n\n"
      ]
    },
    {
      "cell_type": "code",
      "execution_count": null,
      "metadata": {
        "collapsed": false
      },
      "outputs": [],
      "source": [
        "cp_tensor_postprocessed = tlviz.postprocessing.postprocess(cp_tensor, aminoacids)\nfig, ax = tlviz.visualisation.components_plot(cp_tensor_postprocessed)\nplt.show()"
      ]
    },
    {
      "cell_type": "markdown",
      "metadata": {},
      "source": [
        "We see that by postprocessing the decomposition before plotting the components, we get a more informative plot.\nThe postprocessed decomposition has labels for the modes, which :meth:`tlviz.visualisation.components_plot`\nuses for each plot's values along the x-axis and to give each subplot a descriptive x-label. Postprocessing\nhas also flipped the negative factor matrices (See\n:meth:`tlviz.postprocessing.resolve_cp_sign_indeterminacy` for more information on how TLViz\ndecides the sign of the component vectors).\n\n"
      ]
    },
    {
      "cell_type": "markdown",
      "metadata": {},
      "source": [
        "Finally, we reset the backend to NumPy, because the other gallery examples assume that we use the NumPy backend.\n\n"
      ]
    },
    {
      "cell_type": "code",
      "execution_count": null,
      "metadata": {
        "collapsed": false
      },
      "outputs": [],
      "source": [
        "tl.set_backend(\"numpy\")"
      ]
    }
  ],
  "metadata": {
    "kernelspec": {
      "display_name": "Python 3",
      "language": "python",
      "name": "python3"
    },
    "language_info": {
      "codemirror_mode": {
        "name": "ipython",
        "version": 3
      },
      "file_extension": ".py",
      "mimetype": "text/x-python",
      "name": "python",
      "nbconvert_exporter": "python",
      "pygments_lexer": "ipython3",
      "version": "3.8.16"
    }
  },
  "nbformat": 4,
  "nbformat_minor": 0
}