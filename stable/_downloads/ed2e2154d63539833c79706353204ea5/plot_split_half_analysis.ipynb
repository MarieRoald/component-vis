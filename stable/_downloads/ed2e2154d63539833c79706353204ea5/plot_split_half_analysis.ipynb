{
  "cells": [
    {
      "cell_type": "code",
      "execution_count": null,
      "metadata": {
        "collapsed": false
      },
      "outputs": [],
      "source": [
        "%matplotlib inline"
      ]
    },
    {
      "cell_type": "markdown",
      "metadata": {},
      "source": [
        "\n\n# Split-half analysis for selecting the number of components\n\nIn this example, we will look at how we can use split-half analysis to select the number of PARAFAC components.\n\nThe idea of split-half analysis is that we want to find the same underlying patterns if we look at different representative subsets of the same data.\nTo accomplish this, we split the dataset in two equally sized non-overlapping pieces along one mode and fit a PARAFAC model to both pieces.\nThen, we compare the similarity of the factors in the other, non-split modes.\n\nGenerally, we would split the sample mode, but sometimes, it may also make sense to split other modes. For example,\nif we have a time series and expect the same patterns to be present in two subsequent periods, then we may split\nthe data along the temporal mode instead.\n"
      ]
    },
    {
      "cell_type": "markdown",
      "metadata": {},
      "source": [
        "## Imports and utilities\n\n"
      ]
    },
    {
      "cell_type": "code",
      "execution_count": null,
      "metadata": {
        "collapsed": false
      },
      "outputs": [],
      "source": [
        "import matplotlib.pyplot as plt\nimport numpy as np\nimport pandas as pd\nfrom tensorly.decomposition import parafac\n\nimport tlviz\n\nrng = np.random.default_rng(0)"
      ]
    },
    {
      "cell_type": "markdown",
      "metadata": {},
      "source": [
        "To fit PARAFAC models, we need to solve a non-convex optimization problem, possibly with local minima. It is\ntherefore useful to fit several models with the same number of components using many different random\ninitialisations.\n\n"
      ]
    },
    {
      "cell_type": "code",
      "execution_count": null,
      "metadata": {
        "collapsed": false
      },
      "outputs": [],
      "source": [
        "def fit_many_parafac(X, num_components, num_inits=10):\n    return [\n        parafac(\n            X,\n            num_components,\n            n_iter_max=2000,\n            tol=1e-8,\n            init=\"random\",\n            orthogonalise=True,\n            linesearch=True,\n            random_state=i,\n        )\n        for i in range(num_inits)\n    ]"
      ]
    },
    {
      "cell_type": "markdown",
      "metadata": {},
      "source": [
        "## Creating simulated data\n\nWe start with some simulated data, since then, we know exactly how many components there are in the data.\n\n"
      ]
    },
    {
      "cell_type": "code",
      "execution_count": null,
      "metadata": {
        "collapsed": false
      },
      "outputs": [],
      "source": [
        "cp_tensor, dataset = tlviz.data.simulated_random_cp_tensor((30, 40, 50), 4, noise_level=0.2, labelled=True)"
      ]
    },
    {
      "cell_type": "markdown",
      "metadata": {},
      "source": [
        "## Splitting the data\n\nWe split the data randomly along the second mode\n\n"
      ]
    },
    {
      "cell_type": "code",
      "execution_count": null,
      "metadata": {
        "collapsed": false
      },
      "outputs": [],
      "source": [
        "I, J, K = dataset.shape\n\npermutation = rng.permutation(J)\nsplits = [\n    dataset.loc[{\"Mode 1\": permutation[: J // 2]}],\n    dataset.loc[{\"Mode 1\": permutation[J // 2 :]}],\n]"
      ]
    },
    {
      "cell_type": "markdown",
      "metadata": {},
      "source": [
        "## Fitting models to the split data\n\nWe split the data randomly along the second mode\n\n"
      ]
    },
    {
      "cell_type": "code",
      "execution_count": null,
      "metadata": {
        "collapsed": false
      },
      "outputs": [],
      "source": [
        "models = {}\nfor rank in [1, 2, 3, 4, 5]:\n    print(f\"{rank} components\")\n    models[rank] = []\n    for split in splits:\n        current_models = fit_many_parafac(split.data, rank)\n        current_model = tlviz.multimodel_evaluation.get_model_with_lowest_error(current_models, split)\n        models[rank].append(current_model)"
      ]
    },
    {
      "cell_type": "markdown",
      "metadata": {},
      "source": [
        "## Computing factor similarity\n\nNow, we compute the similarity between the two splits for the different numbers of components.\nHowever, we cannot compare the second mode (``mode=1``), since that was the mode we sampled randomly\nin. Also, we cannot consider the weights in the factor match score since the weight will also be\naffected by the sampling.\n\n"
      ]
    },
    {
      "cell_type": "code",
      "execution_count": null,
      "metadata": {
        "collapsed": false
      },
      "outputs": [],
      "source": [
        "split_half_stability = {}\nfor rank, (cp_1, cp_2) in models.items():\n    fms = tlviz.factor_tools.factor_match_score(cp_1, cp_2, consider_weights=False, skip_mode=1)\n    split_half_stability[rank] = fms"
      ]
    },
    {
      "cell_type": "markdown",
      "metadata": {},
      "source": [
        "## Plotting the  factor similarity\n\n"
      ]
    },
    {
      "cell_type": "code",
      "execution_count": null,
      "metadata": {
        "collapsed": false
      },
      "outputs": [],
      "source": [
        "fig, ax = plt.subplots()\nax.plot(split_half_stability.keys(), split_half_stability.values(), \"-o\")\nax.set_xticks(list(split_half_stability.keys()))\nax.set_xlabel(\"Number of components\")\nax.set_ylabel(\"Split half stability\")\nplt.show()"
      ]
    },
    {
      "cell_type": "markdown",
      "metadata": {},
      "source": [
        "As we can see, there is a sharp drop in stability when increasing from four to five components.\nThis drop indicates that the patterns we find with a five-component model are not robust to small changes in the data.\nIn this case, this result is expected because we simulated the data and know that it contains only four components.\nSo to fit a five-component model to this four-component data, the model might split the information in one of the\n\"true\" components into two or more model components and possibly mix some of the components.\nSince this splitting and mixing can be done in many ways, we no longer have a stable decomposition, causing the\nsharp drop we see in the plot.\n\nSo we see that visualising the split-half stability can be a helpful way to evaluate how many components you should\nuse to model your data.\n\n"
      ]
    },
    {
      "cell_type": "markdown",
      "metadata": {},
      "source": [
        "## Split-half analysis for the bike sharing data\n\nHere, we try split-half analysis on bike sharing data from Oslo. This dataset has five modes:\n\n  * End station\n  * Year\n  * Month\n  * Day of week\n  * Hour of day\n\nThe dataset covers all bike trips during 2020 and 2021, and we would expect to find appoximately\nthe same patterns for the two years. We can therefore form two new tensors, one for 2020 and one\nfor 2021, fit PARAFAC models for these two datasets and compare the similarity of the components.\n\n"
      ]
    },
    {
      "cell_type": "code",
      "execution_count": null,
      "metadata": {
        "collapsed": false
      },
      "outputs": [],
      "source": [
        "bike_data = tlviz.data.load_oslo_city_bike()\n\nsplits = [\n    bike_data.loc[{\"Year\": 2020}],\n    bike_data.loc[{\"Year\": 2021}],\n]\n\nbike_models = {}\nfor rank in [1, 2, 3, 4, 5]:\n    print(f\"{rank} components\")\n    bike_models[rank] = []\n    for split in splits:\n        current_models = fit_many_parafac(split.data, rank)\n        current_model = tlviz.multimodel_evaluation.get_model_with_lowest_error(current_models, split)\n        bike_models[rank].append(current_model)\n\nbike_stability = {}\nfor rank, (cp_1, cp_2) in bike_models.items():\n    fms = tlviz.factor_tools.factor_match_score(cp_1, cp_2, consider_weights=False, skip_mode=1)\n    bike_stability[rank] = fms\n\n\nfig, ax = plt.subplots()\nax.plot(bike_stability.keys(), bike_stability.values(), \"-o\")\nax.set_xticks(list(split_half_stability.keys()))\nax.set_xlabel(\"Number of components\")\nax.set_ylabel(\"Split half stability\")\nplt.show()"
      ]
    },
    {
      "cell_type": "markdown",
      "metadata": {},
      "source": [
        "Based on this split-half analysis, we see that we find three components that are present in both\nyears. The moment we go up to four components, the stability drastically falls, and it falls even\nfurther with five components. This indicates that three components is a good choice for the model.\n\n"
      ]
    }
  ],
  "metadata": {
    "kernelspec": {
      "display_name": "Python 3",
      "language": "python",
      "name": "python3"
    },
    "language_info": {
      "codemirror_mode": {
        "name": "ipython",
        "version": 3
      },
      "file_extension": ".py",
      "mimetype": "text/x-python",
      "name": "python",
      "nbconvert_exporter": "python",
      "pygments_lexer": "ipython3",
      "version": "3.8.14"
    }
  },
  "nbformat": 4,
  "nbformat_minor": 0
}