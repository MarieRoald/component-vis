{
  "cells": [
    {
      "cell_type": "code",
      "execution_count": null,
      "metadata": {
        "collapsed": false
      },
      "outputs": [],
      "source": [
        "%matplotlib inline"
      ]
    },
    {
      "cell_type": "markdown",
      "metadata": {},
      "source": [
        "\n# TLViz + PlotLy for interactive visualisations\n\nIn this example, we'll see how TLViz can be used together with PlotLy Express to produce rich, interactive visualisations of your extracted components with just a few lines of code.\n"
      ]
    },
    {
      "cell_type": "markdown",
      "metadata": {},
      "source": [
        "## Imports and utilities\n\n"
      ]
    },
    {
      "cell_type": "code",
      "execution_count": null,
      "metadata": {
        "collapsed": false
      },
      "outputs": [],
      "source": [
        "import plotly.express as px\nfrom tensorly.decomposition import non_negative_parafac_hals\n\nimport tlviz"
      ]
    },
    {
      "cell_type": "markdown",
      "metadata": {},
      "source": [
        "To fit CP models, we need to solve a non-convex optimization problem, possibly with local minima. It is therefore beneficial\nto fit several models with the same number of components using many different random initialisations.\n\n"
      ]
    },
    {
      "cell_type": "code",
      "execution_count": null,
      "metadata": {
        "collapsed": false
      },
      "outputs": [],
      "source": [
        "def fit_many_nn_parafac(X, num_components, num_inits=5):\n    return [non_negative_parafac_hals(X, num_components, n_iter_max=500, init=\"random\",) for i in range(num_inits)]"
      ]
    },
    {
      "cell_type": "markdown",
      "metadata": {},
      "source": [
        "## Loading the data\n\n"
      ]
    },
    {
      "cell_type": "code",
      "execution_count": null,
      "metadata": {
        "collapsed": false
      },
      "outputs": [],
      "source": [
        "bike_data = tlviz.data.load_oslo_city_bike()\nbike_data"
      ]
    },
    {
      "cell_type": "markdown",
      "metadata": {},
      "source": [
        "We see that there are two metadata columns in the ``End station name`` axis: ``lat`` and ``lon``.\nThese contain the coordinates for each bike station.\n\n"
      ]
    },
    {
      "cell_type": "markdown",
      "metadata": {},
      "source": [
        "## Fitting the model\n\nWe fit five three-component PARAFAC2 model candidates to this data and select the one with the lowest error\n(to see why a three-component model is a good choice, see the `split-half analysis example <split-half>`).\n\n"
      ]
    },
    {
      "cell_type": "code",
      "execution_count": null,
      "metadata": {
        "collapsed": false
      },
      "outputs": [],
      "source": [
        "model_candidates = fit_many_nn_parafac(bike_data.data, 3, num_inits=5)\nselected_cp = tlviz.multimodel_evaluation.get_model_with_lowest_error(model_candidates, bike_data)"
      ]
    },
    {
      "cell_type": "markdown",
      "metadata": {},
      "source": [
        "## Postprocessing\n\nIf we just postprocess, then we get a labelled CP tensor. That is, the factor matrices are transformed into Pandas\nDataFrames with the same index as the main coordinates of the xarray DataArray. However, in this case, we also want\nto include the additional coordinates (i.e. the latitude and longitude) from this DataArray as metadata-columns.\nTo include these as well, we set the ``include_metadata`` flag in ``postprocess`` to ``True``.\n\n"
      ]
    },
    {
      "cell_type": "code",
      "execution_count": null,
      "metadata": {
        "collapsed": false
      },
      "outputs": [],
      "source": [
        "cp_with_metadata = tlviz.postprocessing.postprocess(selected_cp, bike_data, include_metadata=True)\n\nweights, (end_station, year, month, day_of_week, hour) = cp_with_metadata"
      ]
    },
    {
      "cell_type": "markdown",
      "metadata": {},
      "source": [
        "## Converting the data to a tidy format\n\nPlotLy assumes that the data is *tidy*, but factor matrices are not. We have one column per factor matrix, which\nmakes it cumbersome to use with plotly. We therefore have a ``factor_matrix_to_tidy``-function in ``tlviz``\nwhich simply converts a factor matrix (with potential metadata) into a tidy format. See\n``tlviz.postprocessing.factor_matrix_to_tidy`` for more info.\n\n"
      ]
    },
    {
      "cell_type": "code",
      "execution_count": null,
      "metadata": {
        "collapsed": false
      },
      "outputs": [],
      "source": [
        "tidy_end_station_data = tlviz.postprocessing.factor_matrix_to_tidy(end_station, value_name=\"Popularity\")"
      ]
    },
    {
      "cell_type": "markdown",
      "metadata": {},
      "source": [
        "## Density map of the end station components\n\nNow, we use the ``density_mapbox`` function in PlotLy Express to create a density map of the End station components.\nWe can use the animation frame to get a nice slider for the different components.\n\n"
      ]
    },
    {
      "cell_type": "code",
      "execution_count": null,
      "metadata": {
        "collapsed": false
      },
      "outputs": [],
      "source": [
        "px.density_mapbox(\n    tlviz.postprocessing.factor_matrix_to_tidy(end_station, value_name=\"Popularity\"),\n    lat=\"lat\",\n    lon=\"lon\",\n    z=\"Popularity\",\n    animation_frame=\"Component\",\n    hover_data=[\"End station name\"],\n    zoom=10.5,\n    opacity=0.5,\n    mapbox_style=\"carto-positron\",\n    width=600,\n)"
      ]
    },
    {
      "cell_type": "markdown",
      "metadata": {},
      "source": [
        "We see that there are three distinct patterns. Component 0 is spread across most of the city, while component 1\nis focused on central areas. Component 2 is also spread widely, but has a strong signal at leisure-places like the\nbeach at Bygd\u00f8y.\n\n"
      ]
    },
    {
      "cell_type": "markdown",
      "metadata": {},
      "source": [
        "## Plotting the various time-components\n\n"
      ]
    },
    {
      "cell_type": "markdown",
      "metadata": {},
      "source": [
        "### Time of day\n\nFirst, we look at the time-of-day components to see if these reveal what kind of patterns the different components\nrepresent.\n\n"
      ]
    },
    {
      "cell_type": "code",
      "execution_count": null,
      "metadata": {
        "collapsed": false
      },
      "outputs": [],
      "source": [
        "px.line(\n    tlviz.postprocessing.factor_matrix_to_tidy(hour, value_name=\"Popularity\"),\n    x=\"Hour\",\n    y=\"Popularity\",\n    color=\"Component\",\n    width=600,\n)"
      ]
    },
    {
      "cell_type": "markdown",
      "metadata": {},
      "source": [
        "We see that the first component shows a strong signal after 16:00, which is when a normal working day in Norway ends.\nLikewise, the second component shows the strongest signal at 08:00, which is when a normal working day in Norway\nstarts. This indicates that the first two components represent getting to and from work. The third component shows\nactivity during midday, which combined with the map-plot above indicates that it represents leisurely activities.\n\n"
      ]
    },
    {
      "cell_type": "markdown",
      "metadata": {},
      "source": [
        "### Weekday\nNext, we look at the weekday components.\n\n"
      ]
    },
    {
      "cell_type": "code",
      "execution_count": null,
      "metadata": {
        "collapsed": false
      },
      "outputs": [],
      "source": [
        "tidy_day_of_week = tlviz.postprocessing.factor_matrix_to_tidy(day_of_week, value_name=\"Popularity\")\n\npx.line(\n    tidy_day_of_week, x=\"Day of week\", y=\"Popularity\", color=\"Component\", width=600\n)"
      ]
    },
    {
      "cell_type": "markdown",
      "metadata": {},
      "source": [
        "Here, we see that the first two components are the most active on weekdays, which is when people mostly work.\nThe morning component barely shows any signal in the weekends at all and the leisure component has the strongest\nsignal on Saturdays.\n\n"
      ]
    },
    {
      "cell_type": "markdown",
      "metadata": {},
      "source": [
        "### Month plots\n\n"
      ]
    },
    {
      "cell_type": "code",
      "execution_count": null,
      "metadata": {
        "collapsed": false
      },
      "outputs": [],
      "source": [
        "tidy_month = tlviz.postprocessing.factor_matrix_to_tidy(month, value_name=\"Popularity\")\n\npx.line(\n    tidy_month, x=\"Month\", y=\"Popularity\", color=\"Component\", width=600,\n)"
      ]
    },
    {
      "cell_type": "markdown",
      "metadata": {},
      "source": [
        "The month-mode components show reasonable patterns. People bike the most during summer, but the work-components\nget a dip during July, when most people are on holidays\n\n"
      ]
    },
    {
      "cell_type": "markdown",
      "metadata": {},
      "source": [
        "### Year\n\n"
      ]
    },
    {
      "cell_type": "code",
      "execution_count": null,
      "metadata": {
        "collapsed": false
      },
      "outputs": [],
      "source": [
        "px.line(\n    tlviz.postprocessing.factor_matrix_to_tidy(year, value_name=\"Popularity\"),\n    x=\"Year\",\n    y=\"Popularity\",\n    color=\"Component\",\n    width=600,\n)"
      ]
    },
    {
      "cell_type": "markdown",
      "metadata": {},
      "source": [
        "We see that there is  overall less biking in 2021 than in 2020. Perhaps people biked more early in the pandemic\nwhen most public transport was closed?\n\n"
      ]
    },
    {
      "cell_type": "markdown",
      "metadata": {},
      "source": [
        "## Important about including factor metadata\nBy including factor metadata, we add additional columns to the factor matrices. As a consequence, some of the\nfunctions in ``tlviz`` will no longer work properly on CP tensors with metadata on the factor matrices.\nIt can therefore be beneficial to not include the metadata in the beginning (this is the default behaviour of\n``postprocess``) and only add the metadata in the end. Alternatively, it can be useful to have a normally\npostprocessed CP tensor as well as a CP tensor with metadata.\n\n"
      ]
    }
  ],
  "metadata": {
    "kernelspec": {
      "display_name": "Python 3",
      "language": "python",
      "name": "python3"
    },
    "language_info": {
      "codemirror_mode": {
        "name": "ipython",
        "version": 3
      },
      "file_extension": ".py",
      "mimetype": "text/x-python",
      "name": "python",
      "nbconvert_exporter": "python",
      "pygments_lexer": "ipython3",
      "version": "3.9.15"
    }
  },
  "nbformat": 4,
  "nbformat_minor": 0
}