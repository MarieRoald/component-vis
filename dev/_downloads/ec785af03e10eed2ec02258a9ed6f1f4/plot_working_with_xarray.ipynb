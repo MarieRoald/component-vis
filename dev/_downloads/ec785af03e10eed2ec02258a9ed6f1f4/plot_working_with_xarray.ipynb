{
  "cells": [
    {
      "cell_type": "code",
      "execution_count": null,
      "metadata": {
        "collapsed": false
      },
      "outputs": [],
      "source": [
        "%matplotlib inline"
      ]
    },
    {
      "cell_type": "markdown",
      "metadata": {},
      "source": [
        "\n# Working with xarray\n\nTLViz recommends storing your datasets as\n`xarray DataArrays <https://docs.xarray.dev/en/stable/generated/xarray.DataArray.html>`_, which\nsupports labelled multi-way datasets, so the metadata is stored together with the dataset in\none object.\n\nThis example shows how you can create and work with xarray DataArrays.\nFor this, we will create a simulated dataset where the modes represent time-of-day, day-of-week and month and\nthe entries represent some count value.\n"
      ]
    },
    {
      "cell_type": "markdown",
      "metadata": {},
      "source": [
        "## Imports and utilities\n\n"
      ]
    },
    {
      "cell_type": "code",
      "execution_count": null,
      "metadata": {
        "collapsed": false
      },
      "outputs": [],
      "source": [
        "import matplotlib.pyplot as plt\nimport numpy as np\nimport xarray as xr\n\nrng = np.random.default_rng(0)"
      ]
    },
    {
      "cell_type": "markdown",
      "metadata": {},
      "source": [
        "## Creating the simulated dataset\n\n"
      ]
    },
    {
      "cell_type": "code",
      "execution_count": null,
      "metadata": {
        "collapsed": false
      },
      "outputs": [],
      "source": [
        "numpy_data = rng.poisson(10, size=(24, 7, 12))\nhour_label = range(1, 25)\nweekday_label = [\"Mon\", \"Tue\", \"Wed\", \"Thu\", \"Fri\", \"Sat\", \"Sun\"]\nmonth_label = [\"Jan\", \"Feb\", \"Mar\", \"Apr\", \"May\", \"Jun\", \"Jul\", \"Aug\", \"Sep\", \"Oct\", \"Nov\", \"Dec\"]"
      ]
    },
    {
      "cell_type": "markdown",
      "metadata": {},
      "source": [
        "## Storing this dataset as an xarray data array\n\n"
      ]
    },
    {
      "cell_type": "code",
      "execution_count": null,
      "metadata": {
        "collapsed": false
      },
      "outputs": [],
      "source": [
        "dataset = xr.DataArray(\n    data=numpy_data,\n    coords={\n        \"month\": month_label,\n        \"day-of-week\": weekday_label,\n        \"hour\": hour_label,\n    },\n    dims=[\"hour\", \"day-of-week\", \"month\"]\n)\ndataset"
      ]
    },
    {
      "cell_type": "markdown",
      "metadata": {},
      "source": [
        "## Slicing DataArrays\n\nThere are two common ways to slice xarray DataArrays, either by numerical index or by coordinate.\n\n"
      ]
    },
    {
      "cell_type": "code",
      "execution_count": null,
      "metadata": {
        "collapsed": false
      },
      "outputs": [],
      "source": [
        "dataset[0, 0, 0]"
      ]
    },
    {
      "cell_type": "code",
      "execution_count": null,
      "metadata": {
        "collapsed": false
      },
      "outputs": [],
      "source": [
        "dataset.loc[1, \"Mon\", \"Jan\"]"
      ]
    },
    {
      "cell_type": "code",
      "execution_count": null,
      "metadata": {
        "collapsed": false
      },
      "outputs": [],
      "source": [
        "dataset.loc[{\"month\": \"Jan\", \"hour\": 1, \"day-of-week\": \"Mon\"}]"
      ]
    },
    {
      "cell_type": "markdown",
      "metadata": {},
      "source": [
        "## Arithmetic on DataArrays\nxarray includes functionality that makes it very easy to perform reduction operations, such as averages\nand standard deviations across the different modes of a dataset. Below, we compute the average across\nthe hour mode.\n\n"
      ]
    },
    {
      "cell_type": "code",
      "execution_count": null,
      "metadata": {
        "collapsed": false
      },
      "outputs": [],
      "source": [
        "dataset.mean(\"hour\")"
      ]
    },
    {
      "cell_type": "markdown",
      "metadata": {},
      "source": [
        "## Plotting DataArrays\n\nDataArrays also provide powerful plotting functionality. You can, for example, easily create both\nheatmaps and histograms. For more examples of the xarray functionality, see the\n`xarray example gallery <https://docs.xarray.dev/en/stable/gallery.html>`_.\n\n"
      ]
    },
    {
      "cell_type": "code",
      "execution_count": null,
      "metadata": {
        "collapsed": false
      },
      "outputs": [],
      "source": [
        "dataset.plot()\nplt.show()"
      ]
    },
    {
      "cell_type": "code",
      "execution_count": null,
      "metadata": {
        "collapsed": false
      },
      "outputs": [],
      "source": [
        "dataset.mean(dim=\"hour\").plot()\nplt.show()"
      ]
    },
    {
      "cell_type": "markdown",
      "metadata": {},
      "source": [
        "## Accessing the underlying dataset\n\nTensorLy does not support DataArrays, so to fit tensor decomposition models,\nyou need to use the ``data``-attribute of the DataArray\nto access the NumPy array that xarray stores the data in behind the scenes.\n\n"
      ]
    },
    {
      "cell_type": "code",
      "execution_count": null,
      "metadata": {
        "collapsed": false
      },
      "outputs": [],
      "source": [
        "dataset.data"
      ]
    }
  ],
  "metadata": {
    "kernelspec": {
      "display_name": "Python 3",
      "language": "python",
      "name": "python3"
    },
    "language_info": {
      "codemirror_mode": {
        "name": "ipython",
        "version": 3
      },
      "file_extension": ".py",
      "mimetype": "text/x-python",
      "name": "python",
      "nbconvert_exporter": "python",
      "pygments_lexer": "ipython3",
      "version": "3.9.13"
    }
  },
  "nbformat": 4,
  "nbformat_minor": 0
}